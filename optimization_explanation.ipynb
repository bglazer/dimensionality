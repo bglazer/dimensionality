{
 "cells": [
  {
   "cell_type": "markdown",
   "metadata": {},
   "source": [
    "# Optimizing average Jaccard distance in two dimensions"
   ]
  },
  {
   "cell_type": "markdown",
   "metadata": {},
   "source": [
    "I have been considering the problem of minimizing the Jaccard distance in two dimensions. Ad-hoc visual analysis and comparison on 2d projected data is a common step in bioinformatics. As shown in [1], most dimensionality reduction methods don't preserve Jaccard distance, especially in two dimensions. Minimizing AJD in 2d reduces the risk of spurious conclusions resulting from neighborhood distortion.\n",
    "\n",
    "The approach presented in [1] finds a lower dimensional projection that minimizes the AJD, where the lower dimension is hypothesized to represent the true dimensionality of the underlying manifold.\n",
    "\n",
    "Given that the Jaccard distance is non-smooth and discontinuous, it's quite difficult to directly optimize. In order to optimize, we first project to 2d using fast, standard techniques like PCA. We then convert the discrete neighborhood constraint into an inequality, and optimize the resulting expression with gradient descent.\n",
    "\n",
    "[1] https://www.biorxiv.org/content/10.1101/689851v2"
   ]
  },
  {
   "cell_type": "markdown",
   "metadata": {},
   "source": [
    "### Gradient descent for AJD"
   ]
  },
  {
   "cell_type": "markdown",
   "metadata": {},
   "source": [
    "$k$ - number of neighbors\n",
    "\n",
    "$a$ - source point. Point for which we determine the neighborhood in the original dimensionality\n",
    "\n",
    "$t$ - threshold point. For $k$ neighbors, this is the $k$'th farthest point from $a$, which defines the radius of the neighborhood of $a$\n",
    "\n",
    "$n$ - point in the neighborhood of $a$ in the original space\n",
    "\n",
    "$\\bar{n}$ - point **not** in the neighborhood of $a$ in the original space\n",
    "\n",
    "$d(x,y)$ - Euclidean distance between points $x$ and $y$\n",
    "\n",
    "In the lower dimensional space, $n$ satisfies the constraint if:\n",
    "\n",
    "$$ d(a, t) > d(a, n) $$\n",
    "\n",
    "In the lower dimensional space, the non-neighbor point $\\bar{n}$ satisfies the constraint if: \n",
    "\n",
    "$$ d(a, t) < d(a, \\bar{n}) $$\n",
    "\n",
    "We can perform gradient descent by taking the gradient of the expression above, with respect to ${a,t,n}$ and updating their position. \n",
    "\n",
    "We define the gradient to be zero when the neighborhood constraint is met\n",
    "\n",
    "$$ \\nabla_a [d(a,t) - d(a, n)] = \\frac{a-t}{||a-t||} - \\frac{a-n}{||a-n||}$$ \n",
    "$$ \\nabla_t [d(a,t) - d(a, n)] = \\frac{a-t}{||a-t||}$$ \n",
    "$$ \\nabla_n [d(a,t) - d(a, n)] =-\\frac{a-n}{||a-n||}$$ \n",
    "\n",
    "At each update step, and for each point in the dataset, we sum the gradients, and apply a gradient descent step with $\\epsilon$ learning rate"
   ]
  },
  {
   "cell_type": "markdown",
   "metadata": {},
   "source": [
    "Below is an image demonstrating a gradient update step for a single point"
   ]
  },
  {
   "cell_type": "markdown",
   "metadata": {},
   "source": [
    "![Figure illustrating neighborhood distortion and gradient update step](gradient.png)"
   ]
  },
  {
   "cell_type": "markdown",
   "metadata": {},
   "source": [
    "Below is an animation of gradient descent steps with the following parameters:\n",
    "\n",
    "`\n",
    "eps = 1.0\n",
    "k = 10\n",
    "num_steps = 100\n",
    "`\n",
    "\n",
    "Original Average Jaccard Distance = `.890`\n",
    "\n",
    "Final Average Jaccard Distance = `.693`"
   ]
  },
  {
   "cell_type": "markdown",
   "metadata": {},
   "source": [
    "![](constraints_animation_1.gif)"
   ]
  },
  {
   "cell_type": "markdown",
   "metadata": {},
   "source": [
    "Below is an animation of gradient descent steps with the following parameters:\n",
    "\n",
    "`\n",
    "eps = 0.25\n",
    "k = 50\n",
    "num_steps = 100\n",
    "`\n",
    "\n",
    "Original Average Jaccard Distance = `.852`\n",
    "\n",
    "Final Average Jaccard Distance = `.663`"
   ]
  },
  {
   "cell_type": "markdown",
   "metadata": {},
   "source": [
    "![](constraints_animation_2.gif)"
   ]
  }
 ],
 "metadata": {
  "kernelspec": {
   "display_name": "Python 3",
   "language": "python",
   "name": "python3"
  },
  "language_info": {
   "codemirror_mode": {
    "name": "ipython",
    "version": 3
   },
   "file_extension": ".py",
   "mimetype": "text/x-python",
   "name": "python",
   "nbconvert_exporter": "python",
   "pygments_lexer": "ipython3",
   "version": "3.7.4"
  }
 },
 "nbformat": 4,
 "nbformat_minor": 2
}
